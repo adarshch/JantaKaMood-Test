{
 "cells": [
  {
   "cell_type": "code",
   "execution_count": null,
   "id": "4a9bba27",
   "metadata": {},
   "outputs": [],
   "source": []
  },
  {
   "cell_type": "code",
   "execution_count": 57,
   "id": "13ce2e26",
   "metadata": {},
   "outputs": [
    {
     "data": {
      "text/plain": [
       "VoterLastNameEn\n",
       "PARMAR      2331\n",
       "PARMAR         2\n",
       "PARMARA        6\n",
       "PAROHIT        1\n",
       "PASAL         22\n",
       "PATAL          2\n",
       "PATALIYA      88\n",
       "PATAROD        1\n",
       "Name: count, dtype: int64"
      ]
     },
     "execution_count": 57,
     "metadata": {},
     "output_type": "execute_result"
    }
   ],
   "source": [
    "import pandas as pd\n",
    "\n",
    "df = pd.read_csv('jkm_1.csv')\n",
    "new_df = df.loc[(df['VoterLastNameEn'] == 'PARMAR') | (df['VoterLastNameEn'] == 'Parmar') | (df['VoterLastNameEn'] == 'parmar')]\n",
    "\n",
    "new_df\n",
    "\n",
    "df['count'] = 1\n",
    "\n",
    "df.groupby(['VoterLastNameEn']).count()['count'][792:800]\n",
    "\n",
    "#len(new_df.index)\n",
    "\n",
    "#new_df.reset_index \n"
   ]
  },
  {
   "cell_type": "code",
   "execution_count": null,
   "id": "4d9432fd",
   "metadata": {},
   "outputs": [],
   "source": []
  },
  {
   "cell_type": "code",
   "execution_count": null,
   "id": "bf0276d3",
   "metadata": {},
   "outputs": [],
   "source": []
  }
 ],
 "metadata": {
  "kernelspec": {
   "display_name": "Python 3 (ipykernel)",
   "language": "python",
   "name": "python3"
  },
  "language_info": {
   "codemirror_mode": {
    "name": "ipython",
    "version": 3
   },
   "file_extension": ".py",
   "mimetype": "text/x-python",
   "name": "python",
   "nbconvert_exporter": "python",
   "pygments_lexer": "ipython3",
   "version": "3.8.10"
  }
 },
 "nbformat": 4,
 "nbformat_minor": 5
}
